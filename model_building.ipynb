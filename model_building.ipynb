{
 "cells": [
  {
   "cell_type": "code",
   "execution_count": 1,
   "id": "982f6fb6-f303-4b80-9d47-a861b64a6962",
   "metadata": {},
   "outputs": [],
   "source": [
    "import numpy as np\n",
    "import pandas as pd\n",
    "import matplotlib.pyplot as plt"
   ]
  },
  {
   "cell_type": "code",
   "execution_count": 2,
   "id": "902b3e4e-2496-4298-b07b-e22750bb195f",
   "metadata": {},
   "outputs": [],
   "source": [
    "data = pd.read_csv('artifact/sentiment_analysis.csv')"
   ]
  },
  {
   "cell_type": "code",
   "execution_count": 3,
   "id": "57482115-52ea-43f4-8ffd-3a4a87fd40a0",
   "metadata": {},
   "outputs": [
    {
     "data": {
      "text/html": [
       "<div>\n",
       "<style scoped>\n",
       "    .dataframe tbody tr th:only-of-type {\n",
       "        vertical-align: middle;\n",
       "    }\n",
       "\n",
       "    .dataframe tbody tr th {\n",
       "        vertical-align: top;\n",
       "    }\n",
       "\n",
       "    .dataframe thead th {\n",
       "        text-align: right;\n",
       "    }\n",
       "</style>\n",
       "<table border=\"1\" class=\"dataframe\">\n",
       "  <thead>\n",
       "    <tr style=\"text-align: right;\">\n",
       "      <th></th>\n",
       "      <th>id</th>\n",
       "      <th>label</th>\n",
       "      <th>tweet</th>\n",
       "    </tr>\n",
       "  </thead>\n",
       "  <tbody>\n",
       "    <tr>\n",
       "      <th>0</th>\n",
       "      <td>1</td>\n",
       "      <td>0</td>\n",
       "      <td>#fingerprint #Pregnancy Test https://goo.gl/h1...</td>\n",
       "    </tr>\n",
       "    <tr>\n",
       "      <th>1</th>\n",
       "      <td>2</td>\n",
       "      <td>0</td>\n",
       "      <td>Finally a transparant silicon case ^^ Thanks t...</td>\n",
       "    </tr>\n",
       "    <tr>\n",
       "      <th>2</th>\n",
       "      <td>3</td>\n",
       "      <td>0</td>\n",
       "      <td>We love this! Would you go? #talk #makememorie...</td>\n",
       "    </tr>\n",
       "    <tr>\n",
       "      <th>3</th>\n",
       "      <td>4</td>\n",
       "      <td>0</td>\n",
       "      <td>I'm wired I know I'm George I was made that wa...</td>\n",
       "    </tr>\n",
       "    <tr>\n",
       "      <th>4</th>\n",
       "      <td>5</td>\n",
       "      <td>1</td>\n",
       "      <td>What amazing service! Apple won't even talk to...</td>\n",
       "    </tr>\n",
       "  </tbody>\n",
       "</table>\n",
       "</div>"
      ],
      "text/plain": [
       "   id  label                                              tweet\n",
       "0   1      0  #fingerprint #Pregnancy Test https://goo.gl/h1...\n",
       "1   2      0  Finally a transparant silicon case ^^ Thanks t...\n",
       "2   3      0  We love this! Would you go? #talk #makememorie...\n",
       "3   4      0  I'm wired I know I'm George I was made that wa...\n",
       "4   5      1  What amazing service! Apple won't even talk to..."
      ]
     },
     "execution_count": 3,
     "metadata": {},
     "output_type": "execute_result"
    }
   ],
   "source": [
    "data.head()"
   ]
  },
  {
   "cell_type": "code",
   "execution_count": 4,
   "id": "406642f5-8ba8-4c9e-adb0-8bd14353ef35",
   "metadata": {},
   "outputs": [
    {
     "data": {
      "text/plain": [
       "(7920, 3)"
      ]
     },
     "execution_count": 4,
     "metadata": {},
     "output_type": "execute_result"
    }
   ],
   "source": [
    "# Check for Data Preprocessing \n",
    "\n",
    "data.shape"
   ]
  },
  {
   "cell_type": "code",
   "execution_count": 5,
   "id": "2729ceeb-e8fb-4238-a476-161c105d6f58",
   "metadata": {},
   "outputs": [
    {
     "data": {
      "text/plain": [
       "0"
      ]
     },
     "execution_count": 5,
     "metadata": {},
     "output_type": "execute_result"
    }
   ],
   "source": [
    "data.duplicated().sum()"
   ]
  },
  {
   "cell_type": "code",
   "execution_count": 6,
   "id": "70c18c7b-4db3-4a33-8655-876ea02f5e08",
   "metadata": {},
   "outputs": [
    {
     "data": {
      "text/plain": [
       "id       0\n",
       "label    0\n",
       "tweet    0\n",
       "dtype: int64"
      ]
     },
     "execution_count": 6,
     "metadata": {},
     "output_type": "execute_result"
    }
   ],
   "source": [
    "data.isnull().sum()"
   ]
  },
  {
   "cell_type": "code",
   "execution_count": 7,
   "id": "0d916967-921c-41aa-ad32-d7d23b26766d",
   "metadata": {},
   "outputs": [],
   "source": [
    "# Text Preprocessing\n",
    "\n",
    "import re\n",
    "import string"
   ]
  },
  {
   "cell_type": "code",
   "execution_count": 8,
   "id": "e81a9c81-3c41-4a05-a692-ea44ebb6ab94",
   "metadata": {},
   "outputs": [
    {
     "data": {
      "text/plain": [
       "0    #fingerprint #Pregnancy Test https://goo.gl/h1...\n",
       "1    Finally a transparant silicon case ^^ Thanks t...\n",
       "2    We love this! Would you go? #talk #makememorie...\n",
       "3    I'm wired I know I'm George I was made that wa...\n",
       "4    What amazing service! Apple won't even talk to...\n",
       "Name: tweet, dtype: object"
      ]
     },
     "execution_count": 8,
     "metadata": {},
     "output_type": "execute_result"
    }
   ],
   "source": [
    "# First 5 raws of dataset\n",
    "\n",
    "data[\"tweet\"].head(5)"
   ]
  },
  {
   "cell_type": "code",
   "execution_count": 9,
   "id": "8b615825-fd0c-4e4f-9096-f667dca3aee4",
   "metadata": {},
   "outputs": [],
   "source": [
    "# Convert Uppercase to Lowercase\n",
    "\n",
    "data[\"tweet\"] = data[\"tweet\"].apply(lambda x:\" \".join(x.lower() for x in x.split()))\n"
   ]
  },
  {
   "cell_type": "code",
   "execution_count": 10,
   "id": "c405024f-2a41-4265-85d1-638d3355d082",
   "metadata": {},
   "outputs": [
    {
     "data": {
      "text/plain": [
       "0    #fingerprint #pregnancy test https://goo.gl/h1...\n",
       "1    finally a transparant silicon case ^^ thanks t...\n",
       "2    we love this! would you go? #talk #makememorie...\n",
       "3    i'm wired i know i'm george i was made that wa...\n",
       "4    what amazing service! apple won't even talk to...\n",
       "Name: tweet, dtype: object"
      ]
     },
     "execution_count": 10,
     "metadata": {},
     "output_type": "execute_result"
    }
   ],
   "source": [
    "# Comfirmation of Lowercase to Uppercase\n",
    "\n",
    "data[\"tweet\"].head(5)"
   ]
  },
  {
   "cell_type": "code",
   "execution_count": 11,
   "id": "e588080e-ba21-4154-9b7c-478615120c9a",
   "metadata": {},
   "outputs": [],
   "source": [
    "# Remove links\n",
    "\n",
    "data[\"tweet\"] = data[\"tweet\"].apply(lambda x: \" \".join(re.sub(r'^https?:\\/\\/.*[\\r\\n]*', '',x, flags = re.MULTILINE) for x in x.split()))"
   ]
  },
  {
   "cell_type": "code",
   "execution_count": 12,
   "id": "bac1dcb5-ccd9-4991-8ab0-115938b21463",
   "metadata": {},
   "outputs": [
    {
     "data": {
      "text/plain": [
       "0    #fingerprint #pregnancy test  #android #apps #...\n",
       "1    finally a transparant silicon case ^^ thanks t...\n",
       "2    we love this! would you go? #talk #makememorie...\n",
       "3    i'm wired i know i'm george i was made that wa...\n",
       "4    what amazing service! apple won't even talk to...\n",
       "Name: tweet, dtype: object"
      ]
     },
     "execution_count": 12,
     "metadata": {},
     "output_type": "execute_result"
    }
   ],
   "source": [
    "# Comfirmation of Removing Links\n",
    "\n",
    "data[\"tweet\"].head(5)"
   ]
  },
  {
   "cell_type": "code",
   "execution_count": 13,
   "id": "70808f41-138c-4eb1-a0f6-39ff19630acb",
   "metadata": {},
   "outputs": [],
   "source": [
    "# Remove Punctuation marks\n",
    "\n",
    "def remove_punctuations(text):\n",
    "    for punctuation in string.punctuation:\n",
    "        text = text.replace(punctuation, '')\n",
    "    return text\n",
    "\n",
    "data[\"tweet\"] = data[\"tweet\"].apply(remove_punctuations)"
   ]
  },
  {
   "cell_type": "code",
   "execution_count": 14,
   "id": "6869de8b-7621-4167-852c-00fcce194f63",
   "metadata": {},
   "outputs": [
    {
     "data": {
      "text/plain": [
       "0    fingerprint pregnancy test  android apps beaut...\n",
       "1    finally a transparant silicon case  thanks to ...\n",
       "2    we love this would you go talk makememories un...\n",
       "3    im wired i know im george i was made that way ...\n",
       "4    what amazing service apple wont even talk to m...\n",
       "Name: tweet, dtype: object"
      ]
     },
     "execution_count": 14,
     "metadata": {},
     "output_type": "execute_result"
    }
   ],
   "source": [
    "# Comfirmation of Removing Punctuation Marks\n",
    "\n",
    "data[\"tweet\"].head(5)"
   ]
  },
  {
   "cell_type": "code",
   "execution_count": 15,
   "id": "a4b87bca-d84c-4728-a8e8-921a3ed11bbd",
   "metadata": {},
   "outputs": [
    {
     "data": {
      "text/plain": [
       "7910    perfect match instagood applewatch red instagr...\n",
       "7911    i am completely in love with the new iphone em...\n",
       "7912    tune in turn on drop out  gtd in one app  mobi...\n",
       "7913    ok so my galaxy crashed after one day now i ha...\n",
       "7914    gain followers rt this must follow me i follow...\n",
       "7915    live out loud lol liveoutloud selfie smile son...\n",
       "7916    we would like to wish you an amazing day make ...\n",
       "7917    helping my lovely 90 year old neighbor with he...\n",
       "7918    finally got my smart pocket wifi stay connecte...\n",
       "7919    apple barcelona apple store bcn barcelona trav...\n",
       "Name: tweet, dtype: object"
      ]
     },
     "execution_count": 15,
     "metadata": {},
     "output_type": "execute_result"
    }
   ],
   "source": [
    "# Check for Numbers in the dataset\n",
    "\n",
    "data[\"tweet\"].tail(10)"
   ]
  },
  {
   "cell_type": "code",
   "execution_count": 16,
   "id": "91f44603-69d7-4051-91bb-35a45c4fee91",
   "metadata": {},
   "outputs": [],
   "source": [
    "# Remove Numbers\n",
    "\n",
    "data[\"tweet\"] = data[\"tweet\"].str.replace(r'\\d+', '', regex = True)"
   ]
  },
  {
   "cell_type": "code",
   "execution_count": 17,
   "id": "99aa774b-5274-4623-b637-0e1f9fee83c1",
   "metadata": {},
   "outputs": [
    {
     "data": {
      "text/plain": [
       "7910    perfect match instagood applewatch red instagr...\n",
       "7911    i am completely in love with the new iphone em...\n",
       "7912    tune in turn on drop out  gtd in one app  mobi...\n",
       "7913    ok so my galaxy crashed after one day now i ha...\n",
       "7914    gain followers rt this must follow me i follow...\n",
       "7915    live out loud lol liveoutloud selfie smile son...\n",
       "7916    we would like to wish you an amazing day make ...\n",
       "7917    helping my lovely  year old neighbor with her ...\n",
       "7918    finally got my smart pocket wifi stay connecte...\n",
       "7919    apple barcelona apple store bcn barcelona trav...\n",
       "Name: tweet, dtype: object"
      ]
     },
     "execution_count": 17,
     "metadata": {},
     "output_type": "execute_result"
    }
   ],
   "source": [
    "# Comfirmation of Removing Numbers\n",
    "\n",
    "data[\"tweet\"].tail(10)"
   ]
  },
  {
   "cell_type": "code",
   "execution_count": 18,
   "id": "fd46ddf8-2054-4613-976f-e46014c421e7",
   "metadata": {},
   "outputs": [
    {
     "name": "stdout",
     "output_type": "stream",
     "text": [
      "Requirement already satisfied: nltk in c:\\users\\user\\pycharmprojects\\textsentiment\\.venv\\lib\\site-packages (3.8.1)\n",
      "Requirement already satisfied: click in c:\\users\\user\\pycharmprojects\\textsentiment\\.venv\\lib\\site-packages (from nltk) (8.1.7)\n",
      "Requirement already satisfied: joblib in c:\\users\\user\\pycharmprojects\\textsentiment\\.venv\\lib\\site-packages (from nltk) (1.3.2)\n",
      "Requirement already satisfied: regex>=2021.8.3 in c:\\users\\user\\pycharmprojects\\textsentiment\\.venv\\lib\\site-packages (from nltk) (2023.12.25)\n",
      "Requirement already satisfied: tqdm in c:\\users\\user\\pycharmprojects\\textsentiment\\.venv\\lib\\site-packages (from nltk) (4.66.2)\n",
      "Requirement already satisfied: colorama in c:\\users\\user\\pycharmprojects\\textsentiment\\.venv\\lib\\site-packages (from click->nltk) (0.4.6)\n"
     ]
    }
   ],
   "source": [
    "!pip install nltk"
   ]
  },
  {
   "cell_type": "code",
   "execution_count": 19,
   "id": "c1638e75-c236-47f1-82a7-07662c77c07f",
   "metadata": {},
   "outputs": [],
   "source": [
    "# Download nltk to Remove Stopwords\n",
    "\n",
    "import nltk "
   ]
  },
  {
   "cell_type": "code",
   "execution_count": 20,
   "id": "13b2ada6-76ec-41c6-9494-ced9e00fd26c",
   "metadata": {},
   "outputs": [
    {
     "name": "stderr",
     "output_type": "stream",
     "text": [
      "[nltk_data] Downloading package stopwords to\n",
      "[nltk_data]     C:\\Users\\USER\\AppData\\Roaming\\nltk_data...\n",
      "[nltk_data]   Package stopwords is already up-to-date!\n"
     ]
    },
    {
     "data": {
      "text/plain": [
       "True"
      ]
     },
     "execution_count": 20,
     "metadata": {},
     "output_type": "execute_result"
    }
   ],
   "source": [
    "nltk.download('stopwords')"
   ]
  },
  {
   "cell_type": "code",
   "execution_count": 21,
   "id": "e0700c8c-59a9-41ee-a78b-0ad10227f958",
   "metadata": {},
   "outputs": [],
   "source": [
    "# Get English stopwords from the download location\n",
    "\n",
    "with open('C:/Users/USER/PycharmProjects/TextSentiment/static/model/corpora/stopwords/english', 'r') as file:\n",
    "    sw = file.read().splitlines()"
   ]
  },
  {
   "cell_type": "code",
   "execution_count": 22,
   "id": "7254393b-789d-4437-827c-48f0f229f192",
   "metadata": {},
   "outputs": [
    {
     "data": {
      "text/plain": [
       "['i',\n",
       " 'me',\n",
       " 'my',\n",
       " 'myself',\n",
       " 'we',\n",
       " 'our',\n",
       " 'ours',\n",
       " 'ourselves',\n",
       " 'you',\n",
       " \"you're\",\n",
       " \"you've\",\n",
       " \"you'll\",\n",
       " \"you'd\",\n",
       " 'your',\n",
       " 'yours',\n",
       " 'yourself',\n",
       " 'yourselves',\n",
       " 'he',\n",
       " 'him',\n",
       " 'his',\n",
       " 'himself',\n",
       " 'she',\n",
       " \"she's\",\n",
       " 'her',\n",
       " 'hers',\n",
       " 'herself',\n",
       " 'it',\n",
       " \"it's\",\n",
       " 'its',\n",
       " 'itself',\n",
       " 'they',\n",
       " 'them',\n",
       " 'their',\n",
       " 'theirs',\n",
       " 'themselves',\n",
       " 'what',\n",
       " 'which',\n",
       " 'who',\n",
       " 'whom',\n",
       " 'this',\n",
       " 'that',\n",
       " \"that'll\",\n",
       " 'these',\n",
       " 'those',\n",
       " 'am',\n",
       " 'is',\n",
       " 'are',\n",
       " 'was',\n",
       " 'were',\n",
       " 'be',\n",
       " 'been',\n",
       " 'being',\n",
       " 'have',\n",
       " 'has',\n",
       " 'had',\n",
       " 'having',\n",
       " 'do',\n",
       " 'does',\n",
       " 'did',\n",
       " 'doing',\n",
       " 'a',\n",
       " 'an',\n",
       " 'the',\n",
       " 'and',\n",
       " 'but',\n",
       " 'if',\n",
       " 'or',\n",
       " 'because',\n",
       " 'as',\n",
       " 'until',\n",
       " 'while',\n",
       " 'of',\n",
       " 'at',\n",
       " 'by',\n",
       " 'for',\n",
       " 'with',\n",
       " 'about',\n",
       " 'against',\n",
       " 'between',\n",
       " 'into',\n",
       " 'through',\n",
       " 'during',\n",
       " 'before',\n",
       " 'after',\n",
       " 'above',\n",
       " 'below',\n",
       " 'to',\n",
       " 'from',\n",
       " 'up',\n",
       " 'down',\n",
       " 'in',\n",
       " 'out',\n",
       " 'on',\n",
       " 'off',\n",
       " 'over',\n",
       " 'under',\n",
       " 'again',\n",
       " 'further',\n",
       " 'then',\n",
       " 'once',\n",
       " 'here',\n",
       " 'there',\n",
       " 'when',\n",
       " 'where',\n",
       " 'why',\n",
       " 'how',\n",
       " 'all',\n",
       " 'any',\n",
       " 'both',\n",
       " 'each',\n",
       " 'few',\n",
       " 'more',\n",
       " 'most',\n",
       " 'other',\n",
       " 'some',\n",
       " 'such',\n",
       " 'no',\n",
       " 'nor',\n",
       " 'not',\n",
       " 'only',\n",
       " 'own',\n",
       " 'same',\n",
       " 'so',\n",
       " 'than',\n",
       " 'too',\n",
       " 'very',\n",
       " 's',\n",
       " 't',\n",
       " 'can',\n",
       " 'will',\n",
       " 'just',\n",
       " 'don',\n",
       " \"don't\",\n",
       " 'should',\n",
       " \"should've\",\n",
       " 'now',\n",
       " 'd',\n",
       " 'll',\n",
       " 'm',\n",
       " 'o',\n",
       " 're',\n",
       " 've',\n",
       " 'y',\n",
       " 'ain',\n",
       " 'aren',\n",
       " \"aren't\",\n",
       " 'couldn',\n",
       " \"couldn't\",\n",
       " 'didn',\n",
       " \"didn't\",\n",
       " 'doesn',\n",
       " \"doesn't\",\n",
       " 'hadn',\n",
       " \"hadn't\",\n",
       " 'hasn',\n",
       " \"hasn't\",\n",
       " 'haven',\n",
       " \"haven't\",\n",
       " 'isn',\n",
       " \"isn't\",\n",
       " 'ma',\n",
       " 'mightn',\n",
       " \"mightn't\",\n",
       " 'mustn',\n",
       " \"mustn't\",\n",
       " 'needn',\n",
       " \"needn't\",\n",
       " 'shan',\n",
       " \"shan't\",\n",
       " 'shouldn',\n",
       " \"shouldn't\",\n",
       " 'wasn',\n",
       " \"wasn't\",\n",
       " 'weren',\n",
       " \"weren't\",\n",
       " 'won',\n",
       " \"won't\",\n",
       " 'wouldn',\n",
       " \"wouldn't\"]"
      ]
     },
     "execution_count": 22,
     "metadata": {},
     "output_type": "execute_result"
    }
   ],
   "source": [
    "# All Stopwords in English Language\n",
    "\n",
    "sw"
   ]
  },
  {
   "cell_type": "code",
   "execution_count": 23,
   "id": "59f4be7c-1bdf-49f5-9732-f323bedf7fe6",
   "metadata": {},
   "outputs": [],
   "source": [
    "# Remove Stopwords\n",
    "\n",
    "data[\"tweet\"] = data[\"tweet\"].apply(lambda x: \" \".join(x for x in x.split() if x not in sw))"
   ]
  },
  {
   "cell_type": "code",
   "execution_count": 24,
   "id": "f3e38c06-661a-4008-97b6-1f41148ed8fd",
   "metadata": {},
   "outputs": [
    {
     "data": {
      "text/plain": [
       "0    fingerprint pregnancy test android apps beauti...\n",
       "1    finally transparant silicon case thanks uncle ...\n",
       "2    love would go talk makememories unplug relax i...\n",
       "3    im wired know im george made way iphone cute d...\n",
       "4    amazing service apple wont even talk question ...\n",
       "Name: tweet, dtype: object"
      ]
     },
     "execution_count": 24,
     "metadata": {},
     "output_type": "execute_result"
    }
   ],
   "source": [
    "# Confirmation of Remove Stopwords\n",
    "\n",
    "data[\"tweet\"].head(5)"
   ]
  },
  {
   "cell_type": "code",
   "execution_count": 25,
   "id": "ac3edb8e-9842-475b-b464-5e8e775e7c21",
   "metadata": {},
   "outputs": [],
   "source": [
    "# Import Libraries for Stemming\n",
    "\n",
    "from nltk.stem import PorterStemmer\n",
    "ps = PorterStemmer()"
   ]
  },
  {
   "cell_type": "code",
   "execution_count": 26,
   "id": "b8fda819-b32f-45ca-af4d-b6583a003581",
   "metadata": {},
   "outputs": [],
   "source": [
    "# Stemming\n",
    "\n",
    "data[\"tweet\"] = data[\"tweet\"].apply(lambda x: \" \".join(ps.stem(x) for x in x.split()))"
   ]
  },
  {
   "cell_type": "code",
   "execution_count": 27,
   "id": "729c2011-2980-4695-bf20-8ec04fed8ff0",
   "metadata": {},
   "outputs": [
    {
     "data": {
      "text/plain": [
       "0    fingerprint pregnanc test android app beauti c...\n",
       "1    final transpar silicon case thank uncl yay son...\n",
       "2    love would go talk makememori unplug relax iph...\n",
       "3    im wire know im georg made way iphon cute dave...\n",
       "4    amaz servic appl wont even talk question unles...\n",
       "Name: tweet, dtype: object"
      ]
     },
     "execution_count": 27,
     "metadata": {},
     "output_type": "execute_result"
    }
   ],
   "source": [
    "# Confirmation of Stemming\n",
    "\n",
    "data[\"tweet\"].head(5)"
   ]
  },
  {
   "cell_type": "markdown",
   "id": "66b84e37-ab11-4313-b80c-a9a08c6ecb04",
   "metadata": {},
   "source": [
    "### Bulding Vocabulary\n"
   ]
  },
  {
   "cell_type": "code",
   "execution_count": 28,
   "id": "e4180712-8c9b-4838-a466-cc0f29bdd296",
   "metadata": {},
   "outputs": [],
   "source": [
    "from collections import Counter\n",
    "vocab = Counter()"
   ]
  },
  {
   "cell_type": "code",
   "execution_count": 29,
   "id": "766fbc45-e4cc-4f29-860e-65215279b465",
   "metadata": {},
   "outputs": [],
   "source": [
    "for sentence in data[\"tweet\"]:\n",
    "    vocab.update(sentence.split())"
   ]
  },
  {
   "cell_type": "code",
   "execution_count": 30,
   "id": "65e29055-0521-4806-90db-9e8ede9dfab4",
   "metadata": {},
   "outputs": [
    {
     "data": {
      "text/plain": [
       "Counter({'iphon': 4073,\n",
       "         'appl': 2876,\n",
       "         'samsung': 1395,\n",
       "         'new': 1137,\n",
       "         'phone': 1015,\n",
       "         'follow': 885,\n",
       "         'soni': 819,\n",
       "         '…': 751,\n",
       "         'ipad': 537,\n",
       "         'rt': 525,\n",
       "         'love': 499,\n",
       "         'like': 455,\n",
       "         'day': 426,\n",
       "         'app': 416,\n",
       "         'life': 415,\n",
       "         'android': 414,\n",
       "         'photo': 394,\n",
       "         'get': 382,\n",
       "         'io': 382,\n",
       "         'galaxi': 361,\n",
       "         'instagram': 358,\n",
       "         'case': 348,\n",
       "         'beauti': 322,\n",
       "         'cute': 322,\n",
       "         'gain': 311,\n",
       "         'today': 309,\n",
       "         'work': 306,\n",
       "         'im': 294,\n",
       "         'back': 294,\n",
       "         'fuck': 293,\n",
       "         'happi': 293,\n",
       "         'photographi': 292,\n",
       "         'game': 282,\n",
       "         'got': 280,\n",
       "         'fun': 277,\n",
       "         'news': 265,\n",
       "         'thank': 263,\n",
       "         'music': 263,\n",
       "         'time': 248,\n",
       "         'make': 247,\n",
       "         'updat': 236,\n",
       "         'smile': 231,\n",
       "         'instagood': 226,\n",
       "         'funni': 223,\n",
       "         'one': 221,\n",
       "         'girl': 220,\n",
       "         'lol': 215,\n",
       "         'fashion': 215,\n",
       "         'itun': 212,\n",
       "         'ipod': 211,\n",
       "         'go': 209,\n",
       "         'birthday': 206,\n",
       "         'tech': 205,\n",
       "         'iphonex': 199,\n",
       "         'ps': 198,\n",
       "         'final': 192,\n",
       "         'photooftheday': 191,\n",
       "         'friend': 191,\n",
       "         'everyon': 189,\n",
       "         'cant': 180,\n",
       "         'good': 180,\n",
       "         'amaz': 178,\n",
       "         'use': 174,\n",
       "         'look': 171,\n",
       "         'fail': 169,\n",
       "         'dont': 168,\n",
       "         'must': 168,\n",
       "         'note': 166,\n",
       "         'want': 165,\n",
       "         'sougofollow': 165,\n",
       "         'selfi': 164,\n",
       "         'mac': 164,\n",
       "         'gift': 163,\n",
       "         'sale': 156,\n",
       "         'hate': 155,\n",
       "         'free': 149,\n",
       "         'babi': 148,\n",
       "         'would': 146,\n",
       "         'iger': 143,\n",
       "         'home': 143,\n",
       "         'year': 141,\n",
       "         'camera': 139,\n",
       "         'famili': 139,\n",
       "         'need': 138,\n",
       "         'iphonesia': 137,\n",
       "         'best': 136,\n",
       "         'smartphon': 134,\n",
       "         'cool': 134,\n",
       "         'art': 132,\n",
       "         'iphoneonli': 129,\n",
       "         'charger': 128,\n",
       "         'everi': 127,\n",
       "         'color': 125,\n",
       "         'suck': 125,\n",
       "         'live': 124,\n",
       "         'christma': 124,\n",
       "         'buy': 124,\n",
       "         'tri': 122,\n",
       "         'health': 120,\n",
       "         'summer': 119,\n",
       "         'picoftheday': 117,\n",
       "         'product': 117,\n",
       "         'thing': 116,\n",
       "         'shop': 115,\n",
       "         'white': 115,\n",
       "         'hour': 113,\n",
       "         'u': 113,\n",
       "         'still': 112,\n",
       "         'mobil': 111,\n",
       "         'minut': 111,\n",
       "         'much': 109,\n",
       "         'say': 109,\n",
       "         'even': 108,\n",
       "         'natur': 107,\n",
       "         'night': 107,\n",
       "         'awesom': 107,\n",
       "         'know': 106,\n",
       "         'come': 105,\n",
       "         'macbook': 105,\n",
       "         'window': 104,\n",
       "         'money': 103,\n",
       "         'screen': 102,\n",
       "         'ff': 102,\n",
       "         'laptop': 102,\n",
       "         'download': 101,\n",
       "         'ever': 101,\n",
       "         'great': 98,\n",
       "         'excit': 98,\n",
       "         'wish': 97,\n",
       "         'sexi': 94,\n",
       "         'wait': 94,\n",
       "         'take': 94,\n",
       "         'motorola': 94,\n",
       "         'delet': 93,\n",
       "         'style': 93,\n",
       "         'accessori': 93,\n",
       "         'store': 91,\n",
       "         'black': 90,\n",
       "         'instamood': 90,\n",
       "         'retweet': 90,\n",
       "         'comput': 89,\n",
       "         'last': 89,\n",
       "         'followm': 89,\n",
       "         'technolog': 88,\n",
       "         'wont': 87,\n",
       "         'nice': 87,\n",
       "         'pink': 86,\n",
       "         'iphone…': 86,\n",
       "         'twitter': 86,\n",
       "         'keep': 85,\n",
       "         'sweet': 85,\n",
       "         'peopl': 85,\n",
       "         'realli': 83,\n",
       "         'ive': 83,\n",
       "         'guy': 83,\n",
       "         'pictur': 82,\n",
       "         'morn': 82,\n",
       "         'charg': 81,\n",
       "         'watch': 81,\n",
       "         'video': 81,\n",
       "         'travel': 81,\n",
       "         'never': 81,\n",
       "         'first': 81,\n",
       "         'us': 80,\n",
       "         'batteri': 80,\n",
       "         'think': 80,\n",
       "         'right': 80,\n",
       "         'old': 80,\n",
       "         'fix': 80,\n",
       "         'via': 79,\n",
       "         'boy': 77,\n",
       "         'play': 77,\n",
       "         'custom': 77,\n",
       "         'give': 76,\n",
       "         'googl': 76,\n",
       "         'playstat': 76,\n",
       "         'job': 75,\n",
       "         'fuckyou': 75,\n",
       "         'everyth': 75,\n",
       "         'kid': 74,\n",
       "         'hey': 73,\n",
       "         'let': 73,\n",
       "         'tv': 73,\n",
       "         'toy': 73,\n",
       "         'made': 72,\n",
       "         'pretti': 72,\n",
       "         'well': 72,\n",
       "         'upgrad': 72,\n",
       "         'anoth': 71,\n",
       "         'dog': 71,\n",
       "         'feel': 71,\n",
       "         'cover': 71,\n",
       "         'pic': 70,\n",
       "         'see': 70,\n",
       "         'blue': 70,\n",
       "         'yay': 69,\n",
       "         'week': 69,\n",
       "         'red': 69,\n",
       "         'doesnt': 69,\n",
       "         'count': 69,\n",
       "         'stupid': 68,\n",
       "         'start': 68,\n",
       "         'text': 68,\n",
       "         'present': 68,\n",
       "         'world': 68,\n",
       "         'offer': 68,\n",
       "         'gadget': 68,\n",
       "         'x': 68,\n",
       "         'sun': 67,\n",
       "         'instadaili': 66,\n",
       "         'check': 66,\n",
       "         'quot': 65,\n",
       "         'nokia': 65,\n",
       "         'headphon': 65,\n",
       "         'big': 64,\n",
       "         'design': 64,\n",
       "         'food': 64,\n",
       "         'deal': 64,\n",
       "         'alway': 63,\n",
       "         'appstor': 63,\n",
       "         'friday': 63,\n",
       "         'date': 63,\n",
       "         'youtub': 62,\n",
       "         'book': 62,\n",
       "         'tl': 62,\n",
       "         'rhyme': 62,\n",
       "         'amazon': 61,\n",
       "         'sunset': 61,\n",
       "         'tablet': 61,\n",
       "         'cat': 61,\n",
       "         'pc': 61,\n",
       "         'xperia': 60,\n",
       "         'song': 60,\n",
       "         'laugh': 59,\n",
       "         'blackberri': 58,\n",
       "         'capetown': 58,\n",
       "         'ig': 58,\n",
       "         'hello': 58,\n",
       "         'bought': 57,\n",
       "         'sunday': 57,\n",
       "         'imag': 57,\n",
       "         'sky': 56,\n",
       "         'holiday': 56,\n",
       "         'lost': 56,\n",
       "         'sinc': 56,\n",
       "         'wow': 56,\n",
       "         'top': 56,\n",
       "         'better': 56,\n",
       "         'instap': 55,\n",
       "         'flower': 55,\n",
       "         'month': 55,\n",
       "         'hot': 55,\n",
       "         'surf': 55,\n",
       "         'followback': 54,\n",
       "         'oh': 54,\n",
       "         'gamer': 54,\n",
       "         'gb': 54,\n",
       "         'facebook': 54,\n",
       "         'way': 53,\n",
       "         'share': 53,\n",
       "         'green': 53,\n",
       "         'put': 53,\n",
       "         'capetownsup': 53,\n",
       "         'sup': 53,\n",
       "         'mine': 53,\n",
       "         'phonecas': 53,\n",
       "         'iphoneographi': 52,\n",
       "         'gold': 52,\n",
       "         'g': 52,\n",
       "         'valentin': 52,\n",
       "         'miss': 52,\n",
       "         'ye': 52,\n",
       "         'heart': 52,\n",
       "         'weekend': 52,\n",
       "         'servic': 51,\n",
       "         'newyear': 51,\n",
       "         'face': 51,\n",
       "         'th': 51,\n",
       "         'help': 51,\n",
       "         'wifi': 50,\n",
       "         'tweegram': 50,\n",
       "         'twitch': 50,\n",
       "         'moment': 50,\n",
       "         'call': 50,\n",
       "         'beach': 50,\n",
       "         'macbookpro': 50,\n",
       "         'find': 50,\n",
       "         'god': 50,\n",
       "         'hard': 49,\n",
       "         'hateappl': 49,\n",
       "         'iphoneplu': 49,\n",
       "         'chang': 49,\n",
       "         'dear': 48,\n",
       "         'parti': 48,\n",
       "         'pleas': 48,\n",
       "         'pay': 47,\n",
       "         'support': 47,\n",
       "         'arriv': 47,\n",
       "         'enjoy': 47,\n",
       "         'didnt': 47,\n",
       "         'yeah': 47,\n",
       "         'user': 46,\n",
       "         'ya': 46,\n",
       "         'littl': 46,\n",
       "         'stop': 46,\n",
       "         'pro': 46,\n",
       "         'show': 46,\n",
       "         'restor': 46,\n",
       "         'listen': 45,\n",
       "         'that': 45,\n",
       "         'problem': 45,\n",
       "         'siri': 45,\n",
       "         'power': 45,\n",
       "         'run': 44,\n",
       "         'came': 44,\n",
       "         'word': 44,\n",
       "         'swag': 44,\n",
       "         'welcom': 44,\n",
       "         'two': 44,\n",
       "         'could': 44,\n",
       "         'man': 44,\n",
       "         'newphon': 44,\n",
       "         'messag': 44,\n",
       "         'light': 43,\n",
       "         'win': 43,\n",
       "         'blog': 43,\n",
       "         'turn': 43,\n",
       "         'tweet': 43,\n",
       "         'likelik': 43,\n",
       "         'may': 43,\n",
       "         'fit': 43,\n",
       "         'plu': 43,\n",
       "         'lock': 43,\n",
       "         'order': 43,\n",
       "         'microsoft': 43,\n",
       "         'busi': 42,\n",
       "         'id': 42,\n",
       "         'devic': 42,\n",
       "         'usa': 42,\n",
       "         'car': 42,\n",
       "         'took': 42,\n",
       "         'avail': 42,\n",
       "         'sonyphoto': 42,\n",
       "         'switch': 42,\n",
       "         'gonna': 42,\n",
       "         'hair': 42,\n",
       "         'att': 42,\n",
       "         'relax': 41,\n",
       "         'crazi': 41,\n",
       "         'reason': 41,\n",
       "         'random': 41,\n",
       "         'alreadi': 41,\n",
       "         'nofilt': 41,\n",
       "         'oneplu': 41,\n",
       "         'insta': 41,\n",
       "         'vsco': 41,\n",
       "         'discount': 41,\n",
       "         '•': 41,\n",
       "         'cabl': 40,\n",
       "         'saturday': 40,\n",
       "         'joy': 40,\n",
       "         'model': 40,\n",
       "         'piss': 40,\n",
       "         'hope': 40,\n",
       "         'serious': 39,\n",
       "         'replac': 39,\n",
       "         'tab': 39,\n",
       "         'w': 39,\n",
       "         'readi': 39,\n",
       "         'bestpric': 39,\n",
       "         'bless': 39,\n",
       "         'tell': 39,\n",
       "         'coupl': 39,\n",
       "         'die': 39,\n",
       "         'done': 38,\n",
       "         'movi': 38,\n",
       "         'broken': 38,\n",
       "         'compani': 38,\n",
       "         'annoy': 38,\n",
       "         'photograph': 38,\n",
       "         'p': 38,\n",
       "         'haha': 38,\n",
       "         'tbt': 38,\n",
       "         'crash': 37,\n",
       "         'coffe': 37,\n",
       "         'imessag': 37,\n",
       "         'contact': 37,\n",
       "         'shit': 37,\n",
       "         'trip': 37,\n",
       "         'piec': 37,\n",
       "         'monday': 36,\n",
       "         'bad': 36,\n",
       "         'yet': 36,\n",
       "         'mom': 36,\n",
       "         'sync': 36,\n",
       "         'enough': 36,\n",
       "         'gay': 36,\n",
       "         'iphonecas': 36,\n",
       "         'break': 36,\n",
       "         'hous': 36,\n",
       "         'noth': 35,\n",
       "         'tree': 35,\n",
       "         'peac': 35,\n",
       "         'stuff': 35,\n",
       "         '—': 35,\n",
       "         'ago': 35,\n",
       "         'drop': 34,\n",
       "         'complet': 34,\n",
       "         'taken': 34,\n",
       "         'earli': 34,\n",
       "         'mani': 34,\n",
       "         'fan': 34,\n",
       "         'actual': 34,\n",
       "         'sleep': 34,\n",
       "         'long': 34,\n",
       "         'soon': 34,\n",
       "         'password': 34,\n",
       "         'next': 34,\n",
       "         'verizon': 34,\n",
       "         'anyon': 34,\n",
       "         'number': 34,\n",
       "         'fresh': 34,\n",
       "         'code': 34,\n",
       "         'decid': 34,\n",
       "         'samsunggalaxi': 33,\n",
       "         'sister': 33,\n",
       "         'spring': 33,\n",
       "         'send': 33,\n",
       "         'real': 33,\n",
       "         'unlock': 33,\n",
       "         'emoji': 33,\n",
       "         'care': 33,\n",
       "         'favorit': 33,\n",
       "         'happen': 33,\n",
       "         'mini': 33,\n",
       "         'someon': 32,\n",
       "         'instago': 32,\n",
       "         'chill': 32,\n",
       "         'teamfollowback': 32,\n",
       "         'someth': 32,\n",
       "         'featur': 32,\n",
       "         'galaxynot': 32,\n",
       "         'colleg': 32,\n",
       "         'sad': 32,\n",
       "         'k': 32,\n",
       "         'worst': 32,\n",
       "         'market': 31,\n",
       "         'set': 31,\n",
       "         'end': 31,\n",
       "         'singl': 31,\n",
       "         'portrait': 31,\n",
       "         'husband': 31,\n",
       "         'fast': 31,\n",
       "         'geek': 31,\n",
       "         'steemit': 31,\n",
       "         'london': 31,\n",
       "         'sony…': 31,\n",
       "         'anyth': 31,\n",
       "         'water': 30,\n",
       "         'email': 30,\n",
       "         'cloud': 30,\n",
       "         'followsunday': 30,\n",
       "         'perfect': 30,\n",
       "         'nyc': 30,\n",
       "         'learn': 30,\n",
       "         'healthi': 30,\n",
       "         'gratitud': 30,\n",
       "         'decor': 30,\n",
       "         'steve': 30,\n",
       "         'ill': 30,\n",
       "         'releas': 30,\n",
       "         'brand': 30,\n",
       "         'softwar': 29,\n",
       "         'button': 29,\n",
       "         'broke': 29,\n",
       "         'xbox': 29,\n",
       "         'school': 29,\n",
       "         'wonder': 29,\n",
       "         'fruit': 29,\n",
       "         'kindl': 29,\n",
       "         'air': 29,\n",
       "         'sonylen': 29,\n",
       "         'sonyphotographi': 29,\n",
       "         'sound': 29,\n",
       "         'kiss': 29,\n",
       "         'anim': 29,\n",
       "         'c': 28,\n",
       "         'wed': 28,\n",
       "         'z': 28,\n",
       "         'drink': 28,\n",
       "         'tomorrow': 28,\n",
       "         'dad': 28,\n",
       "         'beat': 28,\n",
       "         'puppi': 28,\n",
       "         'gone': 28,\n",
       "         'thailand': 28,\n",
       "         'sure': 28,\n",
       "         'talk': 27,\n",
       "         'connect': 27,\n",
       "         'bestfriend': 27,\n",
       "         'pop': 27,\n",
       "         'card': 27,\n",
       "         'ad': 27,\n",
       "         'version': 27,\n",
       "         'popular': 27,\n",
       "         'os': 27,\n",
       "         'stori': 27,\n",
       "         'dream': 27,\n",
       "         'cellphon': 27,\n",
       "         'florida': 27,\n",
       "         'lg': 27,\n",
       "         'without': 27,\n",
       "         'crap': 27,\n",
       "         'андроид': 27,\n",
       "         'map': 27,\n",
       "         'inspir': 27,\n",
       "         'cake': 27,\n",
       "         'instalov': 27,\n",
       "         'also': 27,\n",
       "         'said': 27,\n",
       "         'flash': 27,\n",
       "         'crack': 27,\n",
       "         'ok': 27,\n",
       "         'relationship': 27,\n",
       "         'pet': 26,\n",
       "         'brother': 26,\n",
       "         'daughter': 26,\n",
       "         'b': 26,\n",
       "         'read': 26,\n",
       "         'smart': 26,\n",
       "         'imac': 26,\n",
       "         'itali': 26,\n",
       "         'away': 26,\n",
       "         'ebay': 26,\n",
       "         'igdaili': 26,\n",
       "         'ugh': 26,\n",
       "         'instalik': 26,\n",
       "         'ask': 26,\n",
       "         'ilc': 26,\n",
       "         'pm': 26,\n",
       "         'uk': 25,\n",
       "         'eye': 25,\n",
       "         'film': 25,\n",
       "         'less': 25,\n",
       "         'memori': 25,\n",
       "         'gear': 25,\n",
       "         'whole': 25,\n",
       "         'garden': 25,\n",
       "         'super': 25,\n",
       "         'luxuri': 25,\n",
       "         'vocat': 25,\n",
       "         'khaoko': 25,\n",
       "         'htc': 25,\n",
       "         'psn': 25,\n",
       "         'post': 25,\n",
       "         'isnt': 25,\n",
       "         'purchas': 24,\n",
       "         'pie': 24,\n",
       "         'wallpap': 24,\n",
       "         'instahub': 24,\n",
       "         'differ': 24,\n",
       "         'newyork': 24,\n",
       "         'shoot': 24,\n",
       "         '–': 24,\n",
       "         'lifestyl': 24,\n",
       "         'hand': 24,\n",
       "         'instagood…': 24,\n",
       "         'jj': 24,\n",
       "         'there': 24,\n",
       "         'citi': 24,\n",
       "         'instal': 24,\n",
       "         'unitedst': 24,\n",
       "         'guitarplay': 24,\n",
       "         'mother': 24,\n",
       "         'india': 24,\n",
       "         'japan': 24,\n",
       "         'yesterday': 24,\n",
       "         'rain': 24,\n",
       "         'applewatch': 24,\n",
       "         'save': 24,\n",
       "         'idea': 24,\n",
       "         'leav': 24,\n",
       "         'mirror': 24,\n",
       "         'line': 24,\n",
       "         'entrepreneur': 24,\n",
       "         'xperiaz': 23,\n",
       "         'inch': 23,\n",
       "         'kill': 23,\n",
       "         'blackandwhit': 23,\n",
       "         'instacool': 23,\n",
       "         '£': 23,\n",
       "         'sport': 23,\n",
       "         'rock': 23,\n",
       "         'price': 23,\n",
       "         'full': 23,\n",
       "         'bestoftheday': 23,\n",
       "         'shotoniphon': 23,\n",
       "         'though': 23,\n",
       "         'makeup': 23,\n",
       "         'addict': 23,\n",
       "         'samsung…': 23,\n",
       "         'edit': 23,\n",
       "         'total': 23,\n",
       "         'photofe': 23,\n",
       "         'reallyr': 23,\n",
       "         'ador': 23,\n",
       "         'woman': 23,\n",
       "         'charm': 23,\n",
       "         'tshirt': 23,\n",
       "         'wtf': 23,\n",
       "         'snapspeed…': 23,\n",
       "         'lot': 23,\n",
       "         'click': 23,\n",
       "         'e': 23,\n",
       "         'fact': 22,\n",
       "         'goe': 22,\n",
       "         'receiv': 22,\n",
       "         'person': 22,\n",
       "         'keyboard': 22,\n",
       "         'usb': 22,\n",
       "         'icloud': 22,\n",
       "         'small': 22,\n",
       "         'orang': 22,\n",
       "         'true': 22,\n",
       "         'jun': 22,\n",
       "         'caus': 22,\n",
       "         'nike': 22,\n",
       "         'r': 22,\n",
       "         'went': 22,\n",
       "         'proud': 22,\n",
       "         'exquisit': 22,\n",
       "         'squishi': 22,\n",
       "         'strap': 22,\n",
       "         'human': 22,\n",
       "         'ly': 22,\n",
       "         'tonight': 22,\n",
       "         'danc': 22,\n",
       "         'facetim': 22,\n",
       "         'lose': 21,\n",
       "         'ootd': 21,\n",
       "         'bit': 21,\n",
       "         'thought': 21,\n",
       "         'repair': 21,\n",
       "         'liter': 21,\n",
       "         'tattoo': 21,\n",
       "         'chocol': 21,\n",
       "         'might': 21,\n",
       "         'bring': 21,\n",
       "         'boyfriend': 21,\n",
       "         'almost': 21,\n",
       "         'repost': 21,\n",
       "         'dj': 21,\n",
       "         'tuesday': 21,\n",
       "         'forev': 21,\n",
       "         'togeth': 21,\n",
       "         'street': 21,\n",
       "         'likeforlik': 20,\n",
       "         'dead': 20,\n",
       "         'truth': 20,\n",
       "         'ur': 20,\n",
       "         'hashtag': 20,\n",
       "         'ipadmini': 20,\n",
       "         'magic': 20,\n",
       "         'tmobil': 20,\n",
       "         'ship': 20,\n",
       "         'open': 20,\n",
       "         'prophet': 20,\n",
       "         'sick': 20,\n",
       "         'account': 20,\n",
       "         'drive': 20,\n",
       "         'len': 20,\n",
       "         'feed': 20,\n",
       "         'your': 20,\n",
       "         'els': 20,\n",
       "         'load': 20,\n",
       "         'link': 20,\n",
       "         'videogam': 20,\n",
       "         'data': 20,\n",
       "         'redbubbl': 20,\n",
       "         'what': 20,\n",
       "         'slow': 20,\n",
       "         'eat': 20,\n",
       "         'thankyou': 20,\n",
       "         'latest': 20,\n",
       "         'consol': 20,\n",
       "         'believ': 20,\n",
       "         'xma': 20,\n",
       "         'bore': 20,\n",
       "         'daddi': 20,\n",
       "         'type': 19,\n",
       "         'mess': 19,\n",
       "         'havent': 19,\n",
       "         'touch': 19,\n",
       "         'freak': 19,\n",
       "         'creativ': 19,\n",
       "         'it’': 19,\n",
       "         'wrong': 19,\n",
       "         'poem': 19,\n",
       "         'n': 19,\n",
       "         'min': 19,\n",
       "         'second': 19,\n",
       "         'fall': 19,\n",
       "         'past': 19,\n",
       "         'half': 19,\n",
       "         'simpl': 19,\n",
       "         'mm': 19,\n",
       "         'visit': 19,\n",
       "         'goodnight': 19,\n",
       "         'pick': 19,\n",
       "         'april': 19,\n",
       "         'futur': 19,\n",
       "         'shitti': 19,\n",
       "         'tag': 19,\n",
       "         'mean': 19,\n",
       "         'room': 19,\n",
       "         'men': 19,\n",
       "         'skin': 19,\n",
       "         'artist': 19,\n",
       "         'winter': 19,\n",
       "         'foodporn': 19,\n",
       "         'guess': 19,\n",
       "         'canon': 19,\n",
       "         'yummi': 19,\n",
       "         'photobooth': 19,\n",
       "         'patent': 18,\n",
       "         'cut': 18,\n",
       "         'indonesia': 18,\n",
       "         'sorri': 18,\n",
       "         'issu': 18,\n",
       "         'box': 18,\n",
       "         'bug': 18,\n",
       "         'fml': 18,\n",
       "         'offici': 18,\n",
       "         'sonyalpha': 18,\n",
       "         'high': 18,\n",
       "         'calendar': 18,\n",
       "         'team': 18,\n",
       "         'roll': 18,\n",
       "         'experi': 18,\n",
       "         'edg': 18,\n",
       "         'hd': 18,\n",
       "         'uniqu': 18,\n",
       "         'mind': 18,\n",
       "         'miami': 18,\n",
       "         'glad': 18,\n",
       "         'sea': 18,\n",
       "         'stay': 18,\n",
       "         'trend': 18,\n",
       "         'soror': 18,\n",
       "         'move': 18,\n",
       "         'wall': 17,\n",
       "         'daili': 17,\n",
       "         'vlog': 17,\n",
       "         'stand': 17,\n",
       "         'blackfriday': 17,\n",
       "         'reset': 17,\n",
       "         'special': 17,\n",
       "         'mood': 17,\n",
       "         'vaio': 17,\n",
       "         'throw': 17,\n",
       "         'passion': 17,\n",
       "         'sprint': 17,\n",
       "         'space': 17,\n",
       "         'hold': 17,\n",
       "         'freez': 17,\n",
       "         'mad': 17,\n",
       "         'purpos': 17,\n",
       "         'delici': 17,\n",
       "         'far': 17,\n",
       "         'al': 17,\n",
       "         'june': 17,\n",
       "         'canada': 17,\n",
       "         'sent': 17,\n",
       "         'captur': 17,\n",
       "         'march': 17,\n",
       "         'wipe': 17,\n",
       "         'wast': 17,\n",
       "         'zeeland': 17,\n",
       "         'nikon': 17,\n",
       "         'applesuck': 17,\n",
       "         'king': 17,\n",
       "         'trump': 17,\n",
       "         'california': 17,\n",
       "         'surpris': 17,\n",
       "         'protect': 17,\n",
       "         'novemb': 17,\n",
       "         'adventur': 17,\n",
       "         'digit': 17,\n",
       "         'internet': 17,\n",
       "         'stream': 17,\n",
       "         'rose': 17,\n",
       "         'develop': 17,\n",
       "         'outdoor': 16,\n",
       "         'creat': 16,\n",
       "         'landscap': 16,\n",
       "         'bright': 16,\n",
       "         'origin': 16,\n",
       "         'soul': 16,\n",
       "         'abl': 16,\n",
       "         'earphon': 16,\n",
       "         'banana': 16,\n",
       "         'spend': 16,\n",
       "         'stevejob': 16,\n",
       "         'least': 16,\n",
       "         'draw': 16,\n",
       "         'ny': 16,\n",
       "         'angri': 16,\n",
       "         'bird': 16,\n",
       "         'gorgeou': 16,\n",
       "         'dress': 16,\n",
       "         'manag': 16,\n",
       "         'wanna': 16,\n",
       "         'europ': 16,\n",
       "         'fish': 16,\n",
       "         'hateiphon': 16,\n",
       "         'inlov': 16,\n",
       "         'lte': 16,\n",
       "         'storag': 16,\n",
       "         'blond': 16,\n",
       "         'meet': 16,\n",
       "         'motiv': 16,\n",
       "         'sunni': 16,\n",
       "         'left': 16,\n",
       "         'walk': 16,\n",
       "         'v': 16,\n",
       "         'onlin': 16,\n",
       "         'fb': 16,\n",
       "         'colour': 16,\n",
       "         'hack': 16,\n",
       "         'snow': 16,\n",
       "         'join': 16,\n",
       "         'seem': 15,\n",
       "         'goal': 15,\n",
       "         'produc': 15,\n",
       "         'program': 15,\n",
       "         'univers': 15,\n",
       "         'yum': 15,\n",
       "         'shot': 15,\n",
       "         'children': 15,\n",
       "         'uae': 15,\n",
       "         'purpl': 15,\n",
       "         'mommi': 15,\n",
       "         'sell': 15,\n",
       "         'pari': 15,\n",
       "         'silver': 15,\n",
       "         'provid': 15,\n",
       "         'track': 15,\n",
       "         'photoshoot': 15,\n",
       "         'newtoy': 15,\n",
       "         'gener': 15,\n",
       "         'screw': 15,\n",
       "         'cook': 15,\n",
       "         'bye': 15,\n",
       "         'wireless': 15,\n",
       "         'part': 15,\n",
       "         'gotta': 15,\n",
       "         'explor': 15,\n",
       "         'followfollow': 15,\n",
       "         'f': 15,\n",
       "         'found': 15,\n",
       "         'longer': 15,\n",
       "         'celebr': 15,\n",
       "         'gave': 15,\n",
       "         'plan': 15,\n",
       "         'vintag': 15,\n",
       "         'later': 15,\n",
       "         'januari': 15,\n",
       "         'apple…': 15,\n",
       "         'gs': 15,\n",
       "         'question': 14,\n",
       "         'wife': 14,\n",
       "         'subscrib': 14,\n",
       "         'america': 14,\n",
       "         'bday': 14,\n",
       "         'bull': 14,\n",
       "         'ladi': 14,\n",
       "         'droid': 14,\n",
       "         'iphonephotographi': 14,\n",
       "         'singer': 14,\n",
       "         'i’m': 14,\n",
       "         'qualiti': 14,\n",
       "         'mode': 14,\n",
       "         'park': 14,\n",
       "         'rid': 14,\n",
       "         'level': 14,\n",
       "         'babe': 14,\n",
       "         'cold': 14,\n",
       "         'cri': 14,\n",
       "         'display': 14,\n",
       "         'okay': 14,\n",
       "         'valentinesday': 14,\n",
       "         'februari': 14,\n",
       "         'hi': 14,\n",
       "         'instaphoto': 14,\n",
       "         'middl': 14,\n",
       "         'info': 14,\n",
       "         'playlist': 14,\n",
       "         'bot': 14,\n",
       "         'event': 14,\n",
       "         'wouldnt': 14,\n",
       "         'speaker': 14,\n",
       "         'answer': 14,\n",
       "         'block': 14,\n",
       "         'finger': 14,\n",
       "         'anymor': 14,\n",
       "         'cell': 14,\n",
       "         'sticker': 14,\n",
       "         'vscocam': 14,\n",
       "         'librari': 14,\n",
       "         'tire': 14,\n",
       "         'electron': 14,\n",
       "         'useless': 14,\n",
       "         'starbuck': 14,\n",
       "         'dinner': 14,\n",
       "         'spent': 14,\n",
       "         'vacat': 14,\n",
       "         'social': 14,\n",
       "         'tip': 14,\n",
       "         'merri': 14,\n",
       "         'collect': 14,\n",
       "         'stuck': 14,\n",
       "         'blow': 14,\n",
       "         'blogger': 14,\n",
       "         'choos': 14,\n",
       "         'network': 14,\n",
       "         'innov': 14,\n",
       "         'asshol': 14,\n",
       "         'offic': 14,\n",
       "         'self': 14,\n",
       "         'current': 14,\n",
       "         'ink': 14,\n",
       "         'aliusaexpress': 14,\n",
       "         'mi': 14,\n",
       "         'bed': 14,\n",
       "         'goodby': 14,\n",
       "         'breakfast': 14,\n",
       "         'shoppinglist': 14,\n",
       "         'xd': 14,\n",
       "         'dessert': 14,\n",
       "         'led': 14,\n",
       "         'agre': 13,\n",
       "         'million': 13,\n",
       "         'view': 13,\n",
       "         'sonya': 13,\n",
       "         'cd': 13,\n",
       "         'nowplay': 13,\n",
       "         'sign': 13,\n",
       "         'educ': 13,\n",
       "         'bar': 13,\n",
       "         'key': 13,\n",
       "         'told': 13,\n",
       "         'three': 13,\n",
       "         'zoom': 13,\n",
       "         'close': 13,\n",
       "         'system': 13,\n",
       "         'goodmorn': 13,\n",
       "         'smoke': 13,\n",
       "         'bro': 13,\n",
       "         'thx': 13,\n",
       "         'jailbreak': 13,\n",
       "         'stock': 13,\n",
       "         'bc': 13,\n",
       "         'applestor': 13,\n",
       "         'wasnt': 13,\n",
       "         'da': 13,\n",
       "         'appletv': 13,\n",
       "         'bluetooth': 13,\n",
       "         'samsungmobil': 13,\n",
       "         'rs': 13,\n",
       "         'piano': 13,\n",
       "         'treat': 13,\n",
       "         'tagsforlik': 13,\n",
       "         'planet': 13,\n",
       "         'secur': 13,\n",
       "         'becom': 13,\n",
       "         'nail': 13,\n",
       "         'bitch': 13,\n",
       "         'sing': 13,\n",
       "         'till': 13,\n",
       "         'wors': 13,\n",
       "         'review': 13,\n",
       "         'mail': 13,\n",
       "         'webstagram': 13,\n",
       "         'ear': 13,\n",
       "         'forgot': 13,\n",
       "         'fire': 13,\n",
       "         'spoil': 13,\n",
       "         'huge': 13,\n",
       "         'weather': 13,\n",
       "         'place': 13,\n",
       "         'applesupport': 13,\n",
       "         'kind': 13,\n",
       "         'spotifi': 13,\n",
       "         'followtrick': 13,\n",
       "         'error': 13,\n",
       "         'launch': 13,\n",
       "         'minion': 13,\n",
       "         'mp': 13,\n",
       "         'test': 12,\n",
       "         'easter': 12,\n",
       "         ...})"
      ]
     },
     "execution_count": 30,
     "metadata": {},
     "output_type": "execute_result"
    }
   ],
   "source": [
    "vocab"
   ]
  },
  {
   "cell_type": "code",
   "execution_count": 31,
   "id": "70f49764-8e4d-4a08-b928-76830b3da566",
   "metadata": {},
   "outputs": [
    {
     "data": {
      "text/plain": [
       "15949"
      ]
     },
     "execution_count": 31,
     "metadata": {},
     "output_type": "execute_result"
    }
   ],
   "source": [
    "len(vocab)"
   ]
  },
  {
   "cell_type": "code",
   "execution_count": 32,
   "id": "11c99d55-ccc7-4f0c-b598-4b09f5e06ca9",
   "metadata": {},
   "outputs": [
    {
     "data": {
      "text/plain": [
       "(7920, 3)"
      ]
     },
     "execution_count": 32,
     "metadata": {},
     "output_type": "execute_result"
    }
   ],
   "source": [
    "data.shape"
   ]
  },
  {
   "cell_type": "code",
   "execution_count": 33,
   "id": "26d99f5e-85de-4895-8688-2cd223bc6e75",
   "metadata": {},
   "outputs": [],
   "source": [
    "tokens = [key for key in vocab if vocab[key] > 10]"
   ]
  },
  {
   "cell_type": "code",
   "execution_count": 34,
   "id": "8f3d744b-a350-4f4d-adbc-cfd739bdcc64",
   "metadata": {},
   "outputs": [
    {
     "data": {
      "text/plain": [
       "1145"
      ]
     },
     "execution_count": 34,
     "metadata": {},
     "output_type": "execute_result"
    }
   ],
   "source": [
    "len(tokens)"
   ]
  },
  {
   "cell_type": "code",
   "execution_count": 35,
   "id": "3961801b-7dba-4fe6-8891-a2304d02eeaf",
   "metadata": {},
   "outputs": [],
   "source": [
    "def save_vocabulary(lines, filename):\n",
    "    data = '\\n'.join(lines)\n",
    "    file = open(filename, 'w', encoding = 'utf-8')\n",
    "    file.write(data)\n",
    "    file.close()\n",
    "\n",
    "save_vocabulary(tokens, 'C:/Users/USER/PycharmProjects/TextSentiment/static/model/vocabulary.txt')"
   ]
  },
  {
   "cell_type": "markdown",
   "id": "cbcec7ab-4576-4541-918e-80da0d31e8bf",
   "metadata": {},
   "source": [
    "# Divide dataset"
   ]
  },
  {
   "cell_type": "code",
   "execution_count": 36,
   "id": "d67bea1b-4c06-4714-b514-966d3189340b",
   "metadata": {},
   "outputs": [],
   "source": [
    "x = data['tweet']\n",
    "y = data['label']"
   ]
  },
  {
   "cell_type": "code",
   "execution_count": 37,
   "id": "4f599158-91f4-4d1d-9512-da466199b185",
   "metadata": {},
   "outputs": [
    {
     "name": "stdout",
     "output_type": "stream",
     "text": [
      "Requirement already satisfied: scikit-learn in c:\\users\\user\\pycharmprojects\\textsentiment\\.venv\\lib\\site-packages (1.4.1.post1)\n",
      "Requirement already satisfied: numpy<2.0,>=1.19.5 in c:\\users\\user\\pycharmprojects\\textsentiment\\.venv\\lib\\site-packages (from scikit-learn) (1.26.4)\n",
      "Requirement already satisfied: scipy>=1.6.0 in c:\\users\\user\\pycharmprojects\\textsentiment\\.venv\\lib\\site-packages (from scikit-learn) (1.12.0)\n",
      "Requirement already satisfied: joblib>=1.2.0 in c:\\users\\user\\pycharmprojects\\textsentiment\\.venv\\lib\\site-packages (from scikit-learn) (1.3.2)\n",
      "Requirement already satisfied: threadpoolctl>=2.0.0 in c:\\users\\user\\pycharmprojects\\textsentiment\\.venv\\lib\\site-packages (from scikit-learn) (3.3.0)\n"
     ]
    }
   ],
   "source": [
    "!pip install scikit-learn"
   ]
  },
  {
   "cell_type": "code",
   "execution_count": 38,
   "id": "cf5e178d-8c41-4275-aab1-eeed19c98df3",
   "metadata": {},
   "outputs": [],
   "source": [
    "from sklearn.model_selection import train_test_split\n",
    "x_train, x_test, y_train, y_test = train_test_split(x,y, test_size = 0.2)"
   ]
  },
  {
   "cell_type": "code",
   "execution_count": 39,
   "id": "1ed8a077-ccc7-43c8-bef4-cbbf6f945670",
   "metadata": {},
   "outputs": [
    {
     "data": {
      "text/plain": [
       "(6336,)"
      ]
     },
     "execution_count": 39,
     "metadata": {},
     "output_type": "execute_result"
    }
   ],
   "source": [
    "x_train.shape"
   ]
  },
  {
   "cell_type": "code",
   "execution_count": 40,
   "id": "491690f8-8b61-4d2c-abed-e076586e944a",
   "metadata": {},
   "outputs": [
    {
     "data": {
      "text/plain": [
       "(1584,)"
      ]
     },
     "execution_count": 40,
     "metadata": {},
     "output_type": "execute_result"
    }
   ],
   "source": [
    "x_test.shape"
   ]
  },
  {
   "cell_type": "code",
   "execution_count": 41,
   "id": "7612a8aa-e970-474a-bcbc-0df8c68060d8",
   "metadata": {},
   "outputs": [
    {
     "data": {
      "text/plain": [
       "7839    bamboo vocat newyear trip thailand khaoko ilc ...\n",
       "5142    time useless meet kiss smile selfi iphon inlov...\n",
       "3089    gain follow rt must follow follow back follow ...\n",
       "2454    best friend best friend cilacap miss samsung b...\n",
       "2472    johnni depp’ lawyer alleg amber… news photogra...\n",
       "                              ...                        \n",
       "1739    iphon usb cabl … iphonec iphon nationalpetday ...\n",
       "4246    duinebeag god that good need day plan im backm...\n",
       "4179    app store cave islamofascist fail fail fail ap...\n",
       "2611              ericcanona skm haha thought hahahahahah\n",
       "1093    deliveri text new phone excit much newtoy sams...\n",
       "Name: tweet, Length: 6336, dtype: object"
      ]
     },
     "execution_count": 41,
     "metadata": {},
     "output_type": "execute_result"
    }
   ],
   "source": [
    "x_train"
   ]
  },
  {
   "cell_type": "code",
   "execution_count": 42,
   "id": "655cd5a5-d102-4b49-a959-c84407bcdb0e",
   "metadata": {},
   "outputs": [
    {
     "data": {
      "text/plain": [
       "1092                 first app releas app store iphon app\n",
       "6752                 depress moment green candi appl lime\n",
       "5701    oliv samsung live laugh life legoland malaysia...\n",
       "5026    thing love nike nikefc harleydavidson iphon ip...\n",
       "5212      iphon slow almost unus anybodi new window phone\n",
       "                              ...                        \n",
       "5990    dont make time peopl dont make time sad samsun...\n",
       "5253                               im go instal soni vega\n",
       "1630    iphon start fall apart earlier still thrill us...\n",
       "6601    eboni coffe tabl final coat ridgid ryobi trout...\n",
       "1251    would like wish amaz day make everi minut coun...\n",
       "Name: tweet, Length: 1584, dtype: object"
      ]
     },
     "execution_count": 42,
     "metadata": {},
     "output_type": "execute_result"
    }
   ],
   "source": [
    "x_test"
   ]
  },
  {
   "cell_type": "markdown",
   "id": "44fe9e85-297a-4852-9f1a-1dfb5d421ec4",
   "metadata": {},
   "source": [
    "### Vectorization"
   ]
  },
  {
   "cell_type": "code",
   "execution_count": 43,
   "id": "2c28724c-c32e-4377-9de7-7754e20add4f",
   "metadata": {},
   "outputs": [],
   "source": [
    "# Convert to numerical value (y set is always in numerical value)\n",
    "\n",
    "\n",
    "def vectorize(ds, vocabulary):\n",
    "    vectorized_list = []\n",
    "    \n",
    "    for sentence in ds:\n",
    "        sentence_list =  np.zeros(len(vocabulary))\n",
    "\n",
    "        for i in range(len(vocabulary)):\n",
    "            if vocabulary[i] in sentence.split():\n",
    "                sentence_list[i] = 1\n",
    "                \n",
    "        vectorized_list.append(sentence_list)\n",
    "\n",
    "    vectorized_list_new = np.asarray(vectorized_list, dtype = np.float32)\n",
    "    \n",
    "    return vectorized_list_new"
   ]
  },
  {
   "cell_type": "code",
   "execution_count": 44,
   "id": "897a1391-d1a8-4aa8-b2c1-e98cfbfda997",
   "metadata": {},
   "outputs": [],
   "source": [
    "vectorized_x_train = vectorize(x_train, tokens)"
   ]
  },
  {
   "cell_type": "code",
   "execution_count": 45,
   "id": "61793a97-57fe-4bd0-a3ea-71ac247cd5d4",
   "metadata": {},
   "outputs": [
    {
     "data": {
      "text/plain": [
       "array([[0., 0., 0., ..., 0., 0., 0.],\n",
       "       [0., 0., 0., ..., 0., 0., 0.],\n",
       "       [0., 0., 0., ..., 0., 0., 0.],\n",
       "       ...,\n",
       "       [0., 0., 1., ..., 0., 0., 0.],\n",
       "       [0., 0., 0., ..., 0., 0., 0.],\n",
       "       [0., 0., 0., ..., 0., 0., 0.]], dtype=float32)"
      ]
     },
     "execution_count": 45,
     "metadata": {},
     "output_type": "execute_result"
    }
   ],
   "source": [
    "vectorized_x_train"
   ]
  },
  {
   "cell_type": "code",
   "execution_count": 46,
   "id": "49e11990-d513-4a42-a332-46de2caa87fc",
   "metadata": {},
   "outputs": [
    {
     "data": {
      "text/plain": [
       "(6336, 1145)"
      ]
     },
     "execution_count": 46,
     "metadata": {},
     "output_type": "execute_result"
    }
   ],
   "source": [
    "vectorized_x_train.shape"
   ]
  },
  {
   "cell_type": "code",
   "execution_count": 47,
   "id": "1992d3f8-146e-4afc-ae8d-7f065a9bbe83",
   "metadata": {},
   "outputs": [
    {
     "data": {
      "text/plain": [
       "7839    0\n",
       "5142    0\n",
       "3089    0\n",
       "2454    0\n",
       "2472    0\n",
       "       ..\n",
       "1739    0\n",
       "4246    0\n",
       "4179    1\n",
       "2611    1\n",
       "1093    0\n",
       "Name: label, Length: 6336, dtype: int64"
      ]
     },
     "execution_count": 47,
     "metadata": {},
     "output_type": "execute_result"
    }
   ],
   "source": [
    "y_train"
   ]
  },
  {
   "cell_type": "code",
   "execution_count": 48,
   "id": "2223b1d8-4877-47f0-89d7-4a20c867dff5",
   "metadata": {},
   "outputs": [],
   "source": [
    "vectorized_x_test = vectorize(x_test, tokens)"
   ]
  },
  {
   "cell_type": "code",
   "execution_count": 49,
   "id": "14c919b6-b43c-49cd-a75b-a3751a9883da",
   "metadata": {},
   "outputs": [
    {
     "data": {
      "text/plain": [
       "array([[0., 0., 1., ..., 0., 0., 0.],\n",
       "       [0., 0., 0., ..., 0., 0., 0.],\n",
       "       [0., 0., 0., ..., 0., 0., 0.],\n",
       "       ...,\n",
       "       [0., 0., 1., ..., 0., 0., 0.],\n",
       "       [0., 0., 0., ..., 0., 0., 0.],\n",
       "       [0., 0., 0., ..., 0., 0., 0.]], dtype=float32)"
      ]
     },
     "execution_count": 49,
     "metadata": {},
     "output_type": "execute_result"
    }
   ],
   "source": [
    "vectorized_x_test"
   ]
  },
  {
   "cell_type": "code",
   "execution_count": 50,
   "id": "cddfcc43-1dd4-43b9-9c47-9d968b9bf07d",
   "metadata": {},
   "outputs": [
    {
     "data": {
      "text/plain": [
       "1092    0\n",
       "6752    1\n",
       "5701    0\n",
       "5026    0\n",
       "5212    1\n",
       "       ..\n",
       "5990    1\n",
       "5253    0\n",
       "1630    0\n",
       "6601    0\n",
       "1251    0\n",
       "Name: label, Length: 1584, dtype: int64"
      ]
     },
     "execution_count": 50,
     "metadata": {},
     "output_type": "execute_result"
    }
   ],
   "source": [
    "y_test"
   ]
  },
  {
   "cell_type": "code",
   "execution_count": 51,
   "id": "8101c6db-0171-4382-80f6-6f6f945e12f2",
   "metadata": {},
   "outputs": [
    {
     "data": {
      "text/plain": [
       "label\n",
       "0    4713\n",
       "1    1623\n",
       "Name: count, dtype: int64"
      ]
     },
     "execution_count": 51,
     "metadata": {},
     "output_type": "execute_result"
    }
   ],
   "source": [
    "y_train.value_counts()"
   ]
  },
  {
   "cell_type": "code",
   "execution_count": 52,
   "id": "a62361af-00b0-4563-831a-35b385d2883b",
   "metadata": {},
   "outputs": [
    {
     "data": {
      "text/plain": [
       "<function matplotlib.pyplot.show(close=None, block=None)>"
      ]
     },
     "execution_count": 52,
     "metadata": {},
     "output_type": "execute_result"
    },
    {
     "data": {
      "image/png": "[encoded data removed]",
      "text/plain": [
       "<Figure size 640x480 with 1 Axes>"
      ]
     },
     "metadata": {},
     "output_type": "display_data"
    }
   ],
   "source": [
    "plt.pie(np.array([y_train.value_counts()[0], y_train.value_counts()[1]]), labels = ['Positive', 'Negative'])\n",
    "plt.show"
   ]
  },
  {
   "cell_type": "markdown",
   "id": "35bdc9d5-c0c5-4189-a967-2f4ad518c94d",
   "metadata": {},
   "source": [
    "### Handle Inbalanced Dataset"
   ]
  },
  {
   "cell_type": "code",
   "execution_count": 53,
   "id": "20ed7e0a-65c4-4195-be52-ff730a70fdd5",
   "metadata": {},
   "outputs": [
    {
     "name": "stdout",
     "output_type": "stream",
     "text": [
      "Requirement already satisfied: imbalanced-learn in c:\\users\\user\\pycharmprojects\\textsentiment\\.venv\\lib\\site-packages (0.12.0)\n",
      "Requirement already satisfied: numpy>=1.17.3 in c:\\users\\user\\pycharmprojects\\textsentiment\\.venv\\lib\\site-packages (from imbalanced-learn) (1.26.4)\n",
      "Requirement already satisfied: scipy>=1.5.0 in c:\\users\\user\\pycharmprojects\\textsentiment\\.venv\\lib\\site-packages (from imbalanced-learn) (1.12.0)\n",
      "Requirement already satisfied: scikit-learn>=1.0.2 in c:\\users\\user\\pycharmprojects\\textsentiment\\.venv\\lib\\site-packages (from imbalanced-learn) (1.4.1.post1)\n",
      "Requirement already satisfied: joblib>=1.1.1 in c:\\users\\user\\pycharmprojects\\textsentiment\\.venv\\lib\\site-packages (from imbalanced-learn) (1.3.2)\n",
      "Requirement already satisfied: threadpoolctl>=2.0.0 in c:\\users\\user\\pycharmprojects\\textsentiment\\.venv\\lib\\site-packages (from imbalanced-learn) (3.3.0)\n"
     ]
    }
   ],
   "source": [
    "!pip install imbalanced-learn"
   ]
  },
  {
   "cell_type": "code",
   "execution_count": 54,
   "id": "f574662b-b302-4de2-9130-e6de8c232096",
   "metadata": {},
   "outputs": [
    {
     "name": "stderr",
     "output_type": "stream",
     "text": [
      "C:\\Users\\USER\\PycharmProjects\\TextSentiment\\.venv\\Lib\\site-packages\\joblib\\externals\\loky\\backend\\context.py:136: UserWarning: Could not find the number of physical cores for the following reason:\n",
      "[WinError 2] The system cannot find the file specified\n",
      "Returning the number of logical cores instead. You can silence this warning by setting LOKY_MAX_CPU_COUNT to the number of cores you want to use.\n",
      "  warnings.warn(\n",
      "  File \"C:\\Users\\USER\\PycharmProjects\\TextSentiment\\.venv\\Lib\\site-packages\\joblib\\externals\\loky\\backend\\context.py\", line 257, in _count_physical_cores\n",
      "    cpu_info = subprocess.run(\n",
      "               ^^^^^^^^^^^^^^^\n",
      "  File \"C:\\Program Files\\Python312\\Lib\\subprocess.py\", line 548, in run\n",
      "    with Popen(*popenargs, **kwargs) as process:\n",
      "         ^^^^^^^^^^^^^^^^^^^^^^^^^^^\n",
      "  File \"C:\\Program Files\\Python312\\Lib\\subprocess.py\", line 1026, in __init__\n",
      "    self._execute_child(args, executable, preexec_fn, close_fds,\n",
      "  File \"C:\\Program Files\\Python312\\Lib\\subprocess.py\", line 1538, in _execute_child\n",
      "    hp, ht, pid, tid = _winapi.CreateProcess(executable, args,\n",
      "                       ^^^^^^^^^^^^^^^^^^^^^^^^^^^^^^^^^^^^^^^\n"
     ]
    },
    {
     "name": "stdout",
     "output_type": "stream",
     "text": [
      "(9426, 1145) (9426,)\n"
     ]
    }
   ],
   "source": [
    "from imblearn.over_sampling import SMOTE\n",
    "\n",
    "smote = SMOTE()\n",
    "vectorized_x_train_smote, y_train_smote = smote.fit_resample(vectorized_x_train, y_train)\n",
    "print(vectorized_x_train_smote.shape, y_train_smote.shape)\n",
    " "
   ]
  },
  {
   "cell_type": "code",
   "execution_count": 55,
   "id": "b8ebc5b4-2087-4479-b938-468b425069f0",
   "metadata": {},
   "outputs": [
    {
     "data": {
      "text/plain": [
       "label\n",
       "0    4713\n",
       "1    4713\n",
       "Name: count, dtype: int64"
      ]
     },
     "execution_count": 55,
     "metadata": {},
     "output_type": "execute_result"
    }
   ],
   "source": [
    "y_train_smote.value_counts()"
   ]
  },
  {
   "cell_type": "code",
   "execution_count": 56,
   "id": "10ef309b-7b0c-4276-ba09-68f1f8073b86",
   "metadata": {},
   "outputs": [
    {
     "data": {
      "text/plain": [
       "<function matplotlib.pyplot.show(close=None, block=None)>"
      ]
     },
     "execution_count": 56,
     "metadata": {},
     "output_type": "execute_result"
    },
    {
     "data": {
      "image/png": "[encoded data removed]",
      "text/plain": [
       "<Figure size 640x480 with 1 Axes>"
      ]
     },
     "metadata": {},
     "output_type": "display_data"
    }
   ],
   "source": [
    "plt.pie(np.array([y_train_smote.value_counts()[0], y_train_smote.value_counts()[1]]), labels = ['Positive', 'Negative'])\n",
    "plt.show"
   ]
  },
  {
   "cell_type": "code",
   "execution_count": 57,
   "id": "b9b8f9d8-995b-44d0-8c96-dea74e31e363",
   "metadata": {},
   "outputs": [
    {
     "data": {
      "text/plain": [
       "array([[0., 0., 0., ..., 0., 0., 0.],\n",
       "       [0., 0., 0., ..., 0., 0., 0.],\n",
       "       [0., 0., 0., ..., 0., 0., 0.],\n",
       "       ...,\n",
       "       [0., 0., 0., ..., 0., 0., 0.],\n",
       "       [0., 0., 0., ..., 0., 0., 0.],\n",
       "       [0., 0., 0., ..., 0., 0., 0.]], dtype=float32)"
      ]
     },
     "execution_count": 57,
     "metadata": {},
     "output_type": "execute_result"
    }
   ],
   "source": [
    "vectorized_x_train_smote"
   ]
  },
  {
   "cell_type": "code",
   "execution_count": 58,
   "id": "904f66e7-39d9-405f-8124-58aa147ca502",
   "metadata": {},
   "outputs": [
    {
     "data": {
      "text/plain": [
       "0       0\n",
       "1       0\n",
       "2       0\n",
       "3       0\n",
       "4       0\n",
       "       ..\n",
       "9421    1\n",
       "9422    1\n",
       "9423    1\n",
       "9424    1\n",
       "9425    1\n",
       "Name: label, Length: 9426, dtype: int64"
      ]
     },
     "execution_count": 58,
     "metadata": {},
     "output_type": "execute_result"
    }
   ],
   "source": [
    "y_train_smote"
   ]
  },
  {
   "cell_type": "code",
   "execution_count": 59,
   "id": "4fac4b44-2e58-474b-ba40-8a8ed9d7c012",
   "metadata": {},
   "outputs": [
    {
     "data": {
      "text/plain": [
       "array([[0., 0., 1., ..., 0., 0., 0.],\n",
       "       [0., 0., 0., ..., 0., 0., 0.],\n",
       "       [0., 0., 0., ..., 0., 0., 0.],\n",
       "       ...,\n",
       "       [0., 0., 1., ..., 0., 0., 0.],\n",
       "       [0., 0., 0., ..., 0., 0., 0.],\n",
       "       [0., 0., 0., ..., 0., 0., 0.]], dtype=float32)"
      ]
     },
     "execution_count": 59,
     "metadata": {},
     "output_type": "execute_result"
    }
   ],
   "source": [
    "vectorized_x_test"
   ]
  },
  {
   "cell_type": "code",
   "execution_count": 60,
   "id": "14cc6a94-ac7b-4e12-b01e-3665f0fbd824",
   "metadata": {},
   "outputs": [
    {
     "data": {
      "text/plain": [
       "1092    0\n",
       "6752    1\n",
       "5701    0\n",
       "5026    0\n",
       "5212    1\n",
       "       ..\n",
       "5990    1\n",
       "5253    0\n",
       "1630    0\n",
       "6601    0\n",
       "1251    0\n",
       "Name: label, Length: 1584, dtype: int64"
      ]
     },
     "execution_count": 60,
     "metadata": {},
     "output_type": "execute_result"
    }
   ],
   "source": [
    "y_test"
   ]
  },
  {
   "cell_type": "markdown",
   "id": "78705d55-e768-4f71-b418-565f485dc4f0",
   "metadata": {},
   "source": [
    "### Model Training and Evaluation"
   ]
  },
  {
   "cell_type": "code",
   "execution_count": 61,
   "id": "7d6ffd03-93fc-4038-97c8-6467422accd2",
   "metadata": {},
   "outputs": [],
   "source": [
    "from sklearn.linear_model import LogisticRegression\n",
    "from sklearn.naive_bayes import MultinomialNB\n",
    "from sklearn.tree import DecisionTreeClassifier\n",
    "from sklearn.ensemble import RandomForestClassifier\n",
    "from sklearn.svm import SVC"
   ]
  },
  {
   "cell_type": "code",
   "execution_count": 62,
   "id": "0046804a-28e4-4b70-a3d2-6c067681b4f6",
   "metadata": {},
   "outputs": [],
   "source": [
    "from sklearn.metrics import accuracy_score, f1_score, precision_score, recall_score\n",
    "\n",
    "def training_scores(y_act, y_pred):\n",
    "    acc = round(accuracy_score(y_act, y_pred), 3)\n",
    "    pr = round(precision_score(y_act, y_pred), 3)\n",
    "    rec = round(recall_score(y_act, y_pred), 3)\n",
    "    f1 = round(f1_score(y_act, y_pred), 3)\n",
    "    print(f'Training Scores:\\n\\tAccuracy = {acc}\\n\\tPrecisin = {pr}\\n\\tRecall = {rec}\\n\\tF1-Score = {f1}')\n",
    "\n",
    "def validation_scores(y_act, y_pred):\n",
    "    acc = round(accuracy_score(y_act, y_pred), 3)\n",
    "    pr = round(precision_score(y_act, y_pred), 3)\n",
    "    rec = round(recall_score(y_act, y_pred), 3)\n",
    "    f1 = round(f1_score(y_act, y_pred), 3)\n",
    "    print(f'Training Scores:\\n\\tAccuracy = {acc}\\n\\tPrecisin = {pr}\\n\\tRecall = {rec}\\n\\tF1-Score = {f1}')"
   ]
  },
  {
   "cell_type": "markdown",
   "id": "0a04cdcf-a38a-4659-b354-3352ee370226",
   "metadata": {},
   "source": [
    "### Logistic Regression"
   ]
  },
  {
   "cell_type": "code",
   "execution_count": 63,
   "id": "abb2eaa9-f0c5-4da7-a456-f2a5beebb5f7",
   "metadata": {},
   "outputs": [
    {
     "name": "stdout",
     "output_type": "stream",
     "text": [
      "Training Scores:\n",
      "\tAccuracy = 0.94\n",
      "\tPrecisin = 0.918\n",
      "\tRecall = 0.967\n",
      "\tF1-Score = 0.942\n",
      "Training Scores:\n",
      "\tAccuracy = 0.858\n",
      "\tPrecisin = 0.693\n",
      "\tRecall = 0.794\n",
      "\tF1-Score = 0.74\n"
     ]
    }
   ],
   "source": [
    "lr = LogisticRegression()\n",
    "lr.fit(vectorized_x_train_smote, y_train_smote)\n",
    "\n",
    "y_train_pred = lr.predict(vectorized_x_train_smote)\n",
    "\n",
    "y_test_pred = lr.predict(vectorized_x_test)\n",
    "\n",
    "training_scores(y_train_smote, y_train_pred)\n",
    "\n",
    "validation_scores(y_test, y_test_pred)"
   ]
  },
  {
   "cell_type": "markdown",
   "id": "a92f9b1a-1430-4049-8595-2e127bb7b0e9",
   "metadata": {},
   "source": [
    "### Naive Bayes"
   ]
  },
  {
   "cell_type": "code",
   "execution_count": 64,
   "id": "8ecf267b-043b-4ad1-8188-be727815d30e",
   "metadata": {},
   "outputs": [
    {
     "name": "stdout",
     "output_type": "stream",
     "text": [
      "Training Scores:\n",
      "\tAccuracy = 0.908\n",
      "\tPrecisin = 0.873\n",
      "\tRecall = 0.955\n",
      "\tF1-Score = 0.912\n",
      "Training Scores:\n",
      "\tAccuracy = 0.86\n",
      "\tPrecisin = 0.662\n",
      "\tRecall = 0.921\n",
      "\tF1-Score = 0.771\n"
     ]
    }
   ],
   "source": [
    "mnb = MultinomialNB()\n",
    "mnb.fit(vectorized_x_train_smote, y_train_smote)\n",
    "\n",
    "y_train_pred = mnb.predict(vectorized_x_train_smote)\n",
    "\n",
    "y_test_pred = mnb.predict(vectorized_x_test)\n",
    "\n",
    "training_scores(y_train_smote, y_train_pred)\n",
    "\n",
    "validation_scores(y_test, y_test_pred)"
   ]
  },
  {
   "cell_type": "markdown",
   "id": "f73304b6-c7d7-4f02-b5d4-b3cd285b6e76",
   "metadata": {},
   "source": [
    "### Decision Tree"
   ]
  },
  {
   "cell_type": "code",
   "execution_count": 65,
   "id": "6304984e-3daf-4d69-ad30-c2d42024857b",
   "metadata": {},
   "outputs": [
    {
     "name": "stdout",
     "output_type": "stream",
     "text": [
      "Training Scores:\n",
      "\tAccuracy = 1.0\n",
      "\tPrecisin = 1.0\n",
      "\tRecall = 0.999\n",
      "\tF1-Score = 1.0\n",
      "Training Scores:\n",
      "\tAccuracy = 0.836\n",
      "\tPrecisin = 0.673\n",
      "\tRecall = 0.69\n",
      "\tF1-Score = 0.681\n"
     ]
    }
   ],
   "source": [
    "dt = DecisionTreeClassifier()\n",
    "dt.fit(vectorized_x_train_smote, y_train_smote)\n",
    "\n",
    "y_train_pred = dt.predict(vectorized_x_train_smote)\n",
    "\n",
    "y_test_pred = dt.predict(vectorized_x_test)\n",
    "\n",
    "training_scores(y_train_smote, y_train_pred)\n",
    "\n",
    "validation_scores(y_test, y_test_pred)"
   ]
  },
  {
   "cell_type": "markdown",
   "id": "172a4d36-b68e-404f-b53e-93a1608c18bb",
   "metadata": {},
   "source": [
    "### Random Forest"
   ]
  },
  {
   "cell_type": "code",
   "execution_count": 66,
   "id": "23e3382e-006f-4472-8a73-60d4766c721a",
   "metadata": {},
   "outputs": [
    {
     "name": "stdout",
     "output_type": "stream",
     "text": [
      "Training Scores:\n",
      "\tAccuracy = 1.0\n",
      "\tPrecisin = 0.999\n",
      "\tRecall = 1.0\n",
      "\tF1-Score = 1.0\n",
      "Training Scores:\n",
      "\tAccuracy = 0.849\n",
      "\tPrecisin = 0.715\n",
      "\tRecall = 0.677\n",
      "\tF1-Score = 0.696\n"
     ]
    }
   ],
   "source": [
    "rf = RandomForestClassifier()\n",
    "rf.fit(vectorized_x_train_smote, y_train_smote)\n",
    "\n",
    "y_train_pred = rf.predict(vectorized_x_train_smote)\n",
    "\n",
    "y_test_pred = rf.predict(vectorized_x_test)\n",
    "\n",
    "training_scores(y_train_smote, y_train_pred)\n",
    "\n",
    "validation_scores(y_test, y_test_pred)"
   ]
  },
  {
   "cell_type": "markdown",
   "id": "6aad5189-a2d7-4382-af8b-6de877565f5f",
   "metadata": {},
   "source": [
    "### Support Vector Machine"
   ]
  },
  {
   "cell_type": "code",
   "execution_count": 67,
   "id": "315295d9-9de2-4069-87bd-3d696d7e5cdb",
   "metadata": {},
   "outputs": [
    {
     "name": "stdout",
     "output_type": "stream",
     "text": [
      "Training Scores:\n",
      "\tAccuracy = 0.978\n",
      "\tPrecisin = 0.962\n",
      "\tRecall = 0.996\n",
      "\tF1-Score = 0.978\n",
      "Training Scores:\n",
      "\tAccuracy = 0.866\n",
      "\tPrecisin = 0.72\n",
      "\tRecall = 0.777\n",
      "\tF1-Score = 0.747\n"
     ]
    }
   ],
   "source": [
    "svm = SVC()\n",
    "svm.fit(vectorized_x_train_smote, y_train_smote)\n",
    "\n",
    "y_train_pred = svm.predict(vectorized_x_train_smote)\n",
    "\n",
    "y_test_pred = svm.predict(vectorized_x_test)\n",
    "\n",
    "training_scores(y_train_smote, y_train_pred)\n",
    "\n",
    "validation_scores(y_test, y_test_pred)"
   ]
  },
  {
   "cell_type": "markdown",
   "id": "4c454e10-dce1-498f-b289-7b926c5a5e35",
   "metadata": {},
   "source": [
    "### Saving model using pickle"
   ]
  },
  {
   "cell_type": "code",
   "execution_count": 69,
   "id": "88c7ee64-da9f-47d5-a15e-df2830cb1203",
   "metadata": {},
   "outputs": [],
   "source": [
    "import pickle\n",
    "\n",
    "with open('static/model/mlModel.pickle','wb') as file:\n",
    "    pickle.dump(lr, file)"
   ]
  },
  {
   "cell_type": "code",
   "execution_count": null,
   "id": "a7488176-25bf-4782-a86d-2f1c79c77823",
   "metadata": {},
   "outputs": [],
   "source": []
  }
 ],
 "metadata": {
  "kernelspec": {
   "display_name": "Python 3 (ipykernel)",
   "language": "python",
   "name": "python3"
  },
  "language_info": {
   "codemirror_mode": {
    "name": "ipython",
    "version": 3
   },
   "file_extension": ".py",
   "mimetype": "text/x-python",
   "name": "python",
   "nbconvert_exporter": "python",
   "pygments_lexer": "ipython3",
   "version": "3.12.2"
  }
 },
 "nbformat": 4,
 "nbformat_minor": 5
}
